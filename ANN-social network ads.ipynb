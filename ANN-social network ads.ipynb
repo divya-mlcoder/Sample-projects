{
 "cells": [
  {
   "cell_type": "code",
   "execution_count": 1,
   "metadata": {},
   "outputs": [],
   "source": [
    "import numpy as np\n",
    "import pandas as pd\n",
    "import matplotlib.pyplot as plt\n",
    "import seaborn as sns"
   ]
  },
  {
   "cell_type": "code",
   "execution_count": 2,
   "metadata": {},
   "outputs": [],
   "source": [
    "data=pd.read_csv('Social_Network_Ads.csv')"
   ]
  },
  {
   "cell_type": "code",
   "execution_count": 3,
   "metadata": {},
   "outputs": [
    {
     "data": {
      "text/html": [
       "<div>\n",
       "<style scoped>\n",
       "    .dataframe tbody tr th:only-of-type {\n",
       "        vertical-align: middle;\n",
       "    }\n",
       "\n",
       "    .dataframe tbody tr th {\n",
       "        vertical-align: top;\n",
       "    }\n",
       "\n",
       "    .dataframe thead th {\n",
       "        text-align: right;\n",
       "    }\n",
       "</style>\n",
       "<table border=\"1\" class=\"dataframe\">\n",
       "  <thead>\n",
       "    <tr style=\"text-align: right;\">\n",
       "      <th></th>\n",
       "      <th>User ID</th>\n",
       "      <th>Gender</th>\n",
       "      <th>Age</th>\n",
       "      <th>EstimatedSalary</th>\n",
       "      <th>Purchased</th>\n",
       "    </tr>\n",
       "  </thead>\n",
       "  <tbody>\n",
       "    <tr>\n",
       "      <th>0</th>\n",
       "      <td>15624510</td>\n",
       "      <td>Male</td>\n",
       "      <td>19</td>\n",
       "      <td>19000</td>\n",
       "      <td>0</td>\n",
       "    </tr>\n",
       "    <tr>\n",
       "      <th>1</th>\n",
       "      <td>15810944</td>\n",
       "      <td>Male</td>\n",
       "      <td>35</td>\n",
       "      <td>20000</td>\n",
       "      <td>0</td>\n",
       "    </tr>\n",
       "    <tr>\n",
       "      <th>2</th>\n",
       "      <td>15668575</td>\n",
       "      <td>Female</td>\n",
       "      <td>26</td>\n",
       "      <td>43000</td>\n",
       "      <td>0</td>\n",
       "    </tr>\n",
       "    <tr>\n",
       "      <th>3</th>\n",
       "      <td>15603246</td>\n",
       "      <td>Female</td>\n",
       "      <td>27</td>\n",
       "      <td>57000</td>\n",
       "      <td>0</td>\n",
       "    </tr>\n",
       "    <tr>\n",
       "      <th>4</th>\n",
       "      <td>15804002</td>\n",
       "      <td>Male</td>\n",
       "      <td>19</td>\n",
       "      <td>76000</td>\n",
       "      <td>0</td>\n",
       "    </tr>\n",
       "  </tbody>\n",
       "</table>\n",
       "</div>"
      ],
      "text/plain": [
       "    User ID  Gender  Age  EstimatedSalary  Purchased\n",
       "0  15624510    Male   19            19000          0\n",
       "1  15810944    Male   35            20000          0\n",
       "2  15668575  Female   26            43000          0\n",
       "3  15603246  Female   27            57000          0\n",
       "4  15804002    Male   19            76000          0"
      ]
     },
     "execution_count": 3,
     "metadata": {},
     "output_type": "execute_result"
    }
   ],
   "source": [
    "data.head()"
   ]
  },
  {
   "cell_type": "code",
   "execution_count": 4,
   "metadata": {},
   "outputs": [
    {
     "data": {
      "text/plain": [
       "User ID            False\n",
       "Gender             False\n",
       "Age                False\n",
       "EstimatedSalary    False\n",
       "Purchased          False\n",
       "dtype: bool"
      ]
     },
     "execution_count": 4,
     "metadata": {},
     "output_type": "execute_result"
    }
   ],
   "source": [
    "data.isnull().any()"
   ]
  },
  {
   "cell_type": "code",
   "execution_count": 5,
   "metadata": {},
   "outputs": [],
   "source": [
    "data_new=data.drop('User ID',axis=1)"
   ]
  },
  {
   "cell_type": "code",
   "execution_count": 6,
   "metadata": {},
   "outputs": [
    {
     "data": {
      "text/html": [
       "<div>\n",
       "<style scoped>\n",
       "    .dataframe tbody tr th:only-of-type {\n",
       "        vertical-align: middle;\n",
       "    }\n",
       "\n",
       "    .dataframe tbody tr th {\n",
       "        vertical-align: top;\n",
       "    }\n",
       "\n",
       "    .dataframe thead th {\n",
       "        text-align: right;\n",
       "    }\n",
       "</style>\n",
       "<table border=\"1\" class=\"dataframe\">\n",
       "  <thead>\n",
       "    <tr style=\"text-align: right;\">\n",
       "      <th></th>\n",
       "      <th>Gender</th>\n",
       "      <th>Age</th>\n",
       "      <th>EstimatedSalary</th>\n",
       "      <th>Purchased</th>\n",
       "    </tr>\n",
       "  </thead>\n",
       "  <tbody>\n",
       "    <tr>\n",
       "      <th>0</th>\n",
       "      <td>Male</td>\n",
       "      <td>19</td>\n",
       "      <td>19000</td>\n",
       "      <td>0</td>\n",
       "    </tr>\n",
       "    <tr>\n",
       "      <th>1</th>\n",
       "      <td>Male</td>\n",
       "      <td>35</td>\n",
       "      <td>20000</td>\n",
       "      <td>0</td>\n",
       "    </tr>\n",
       "    <tr>\n",
       "      <th>2</th>\n",
       "      <td>Female</td>\n",
       "      <td>26</td>\n",
       "      <td>43000</td>\n",
       "      <td>0</td>\n",
       "    </tr>\n",
       "    <tr>\n",
       "      <th>3</th>\n",
       "      <td>Female</td>\n",
       "      <td>27</td>\n",
       "      <td>57000</td>\n",
       "      <td>0</td>\n",
       "    </tr>\n",
       "    <tr>\n",
       "      <th>4</th>\n",
       "      <td>Male</td>\n",
       "      <td>19</td>\n",
       "      <td>76000</td>\n",
       "      <td>0</td>\n",
       "    </tr>\n",
       "  </tbody>\n",
       "</table>\n",
       "</div>"
      ],
      "text/plain": [
       "   Gender  Age  EstimatedSalary  Purchased\n",
       "0    Male   19            19000          0\n",
       "1    Male   35            20000          0\n",
       "2  Female   26            43000          0\n",
       "3  Female   27            57000          0\n",
       "4    Male   19            76000          0"
      ]
     },
     "execution_count": 6,
     "metadata": {},
     "output_type": "execute_result"
    }
   ],
   "source": [
    "data_new.head()"
   ]
  },
  {
   "cell_type": "code",
   "execution_count": 7,
   "metadata": {},
   "outputs": [
    {
     "data": {
      "text/plain": [
       "Index(['Gender', 'Age', 'EstimatedSalary', 'Purchased'], dtype='object')"
      ]
     },
     "execution_count": 7,
     "metadata": {},
     "output_type": "execute_result"
    }
   ],
   "source": [
    "# one hot encoding of categorical coulmns\n",
    "data_new.columns"
   ]
  },
  {
   "cell_type": "code",
   "execution_count": 8,
   "metadata": {},
   "outputs": [
    {
     "data": {
      "text/html": [
       "<div>\n",
       "<style scoped>\n",
       "    .dataframe tbody tr th:only-of-type {\n",
       "        vertical-align: middle;\n",
       "    }\n",
       "\n",
       "    .dataframe tbody tr th {\n",
       "        vertical-align: top;\n",
       "    }\n",
       "\n",
       "    .dataframe thead th {\n",
       "        text-align: right;\n",
       "    }\n",
       "</style>\n",
       "<table border=\"1\" class=\"dataframe\">\n",
       "  <thead>\n",
       "    <tr style=\"text-align: right;\">\n",
       "      <th></th>\n",
       "      <th>Gender</th>\n",
       "      <th>Age</th>\n",
       "      <th>EstimatedSalary</th>\n",
       "    </tr>\n",
       "  </thead>\n",
       "  <tbody>\n",
       "    <tr>\n",
       "      <th>0</th>\n",
       "      <td>Male</td>\n",
       "      <td>19</td>\n",
       "      <td>19000</td>\n",
       "    </tr>\n",
       "    <tr>\n",
       "      <th>1</th>\n",
       "      <td>Male</td>\n",
       "      <td>35</td>\n",
       "      <td>20000</td>\n",
       "    </tr>\n",
       "    <tr>\n",
       "      <th>2</th>\n",
       "      <td>Female</td>\n",
       "      <td>26</td>\n",
       "      <td>43000</td>\n",
       "    </tr>\n",
       "    <tr>\n",
       "      <th>3</th>\n",
       "      <td>Female</td>\n",
       "      <td>27</td>\n",
       "      <td>57000</td>\n",
       "    </tr>\n",
       "    <tr>\n",
       "      <th>4</th>\n",
       "      <td>Male</td>\n",
       "      <td>19</td>\n",
       "      <td>76000</td>\n",
       "    </tr>\n",
       "  </tbody>\n",
       "</table>\n",
       "</div>"
      ],
      "text/plain": [
       "   Gender  Age  EstimatedSalary\n",
       "0    Male   19            19000\n",
       "1    Male   35            20000\n",
       "2  Female   26            43000\n",
       "3  Female   27            57000\n",
       "4    Male   19            76000"
      ]
     },
     "execution_count": 8,
     "metadata": {},
     "output_type": "execute_result"
    }
   ],
   "source": [
    "X=data_new.drop('Purchased',axis=1)\n",
    "X.head()"
   ]
  },
  {
   "cell_type": "code",
   "execution_count": 9,
   "metadata": {},
   "outputs": [
    {
     "data": {
      "text/plain": [
       "0    0\n",
       "1    0\n",
       "2    0\n",
       "3    0\n",
       "4    0\n",
       "Name: Purchased, dtype: int64"
      ]
     },
     "execution_count": 9,
     "metadata": {},
     "output_type": "execute_result"
    }
   ],
   "source": [
    "y=data_new['Purchased']\n",
    "y.head()"
   ]
  },
  {
   "cell_type": "markdown",
   "metadata": {},
   "source": [
    "# Observe any Categorical and change into one hot encoding"
   ]
  },
  {
   "cell_type": "code",
   "execution_count": 10,
   "metadata": {},
   "outputs": [
    {
     "data": {
      "text/plain": [
       "(400, 3)"
      ]
     },
     "execution_count": 10,
     "metadata": {},
     "output_type": "execute_result"
    }
   ],
   "source": [
    "X.shape"
   ]
  },
  {
   "cell_type": "markdown",
   "metadata": {},
   "source": [
    "# Encoding gender column"
   ]
  },
  {
   "cell_type": "code",
   "execution_count": 12,
   "metadata": {},
   "outputs": [],
   "source": [
    "from sklearn.preprocessing import LabelEncoder\n",
    "lb=LabelEncoder()\n",
    "X.iloc[:,0]=lb.fit_transform(X.iloc[:,0])\n"
   ]
  },
  {
   "cell_type": "code",
   "execution_count": 13,
   "metadata": {},
   "outputs": [
    {
     "data": {
      "text/plain": [
       "array([[1.02020406, 1.78179743, 1.49004624],\n",
       "       [1.02020406, 0.25358736, 1.46068138],\n",
       "       [0.98019606, 1.11320552, 0.78528968],\n",
       "       ...,\n",
       "       [0.98019606, 1.17910958, 1.46068138],\n",
       "       [1.02020406, 0.15807423, 1.07893824],\n",
       "       [0.98019606, 1.08359645, 0.99084367]])"
      ]
     },
     "execution_count": 13,
     "metadata": {},
     "output_type": "execute_result"
    }
   ],
   "source": [
    "from scipy import stats\n",
    "z=np.abs(stats.zscore(X))\n",
    "z"
   ]
  },
  {
   "cell_type": "code",
   "execution_count": 14,
   "metadata": {},
   "outputs": [
    {
     "data": {
      "text/plain": [
       "(400, 3)"
      ]
     },
     "execution_count": 14,
     "metadata": {},
     "output_type": "execute_result"
    }
   ],
   "source": [
    "X.shape"
   ]
  },
  {
   "cell_type": "markdown",
   "metadata": {},
   "source": [
    "# Training the model"
   ]
  },
  {
   "cell_type": "code",
   "execution_count": 17,
   "metadata": {},
   "outputs": [],
   "source": [
    "from sklearn.model_selection import train_test_split\n",
    "X_train,X_test,y_train,y_test=train_test_split(X,y,test_size=0.2,random_state=0)"
   ]
  },
  {
   "cell_type": "code",
   "execution_count": 18,
   "metadata": {},
   "outputs": [
    {
     "name": "stderr",
     "output_type": "stream",
     "text": [
      "C:\\python\\lib\\site-packages\\sklearn\\preprocessing\\data.py:645: DataConversionWarning: Data with input dtype int32, int64 were all converted to float64 by StandardScaler.\n",
      "  return self.partial_fit(X, y)\n",
      "C:\\python\\lib\\site-packages\\sklearn\\base.py:464: DataConversionWarning: Data with input dtype int32, int64 were all converted to float64 by StandardScaler.\n",
      "  return self.fit(X, **fit_params).transform(X)\n",
      "C:\\python\\lib\\site-packages\\ipykernel_launcher.py:4: DataConversionWarning: Data with input dtype int32, int64 were all converted to float64 by StandardScaler.\n",
      "  after removing the cwd from sys.path.\n"
     ]
    }
   ],
   "source": [
    "from sklearn.preprocessing import StandardScaler\n",
    "sc= StandardScaler()\n",
    "X_train=sc.fit_transform(X_train)\n",
    "X_test= sc.transform(X_test)"
   ]
  },
  {
   "cell_type": "markdown",
   "metadata": {},
   "source": [
    "# Neural Network starts"
   ]
  },
  {
   "cell_type": "code",
   "execution_count": 19,
   "metadata": {},
   "outputs": [
    {
     "name": "stderr",
     "output_type": "stream",
     "text": [
      "Using TensorFlow backend.\n"
     ]
    }
   ],
   "source": [
    "import keras\n",
    "from keras.models import Sequential #is used to initalize the model\n",
    "from keras.layers import Dense #is used to build layers"
   ]
  },
  {
   "cell_type": "code",
   "execution_count": 20,
   "metadata": {},
   "outputs": [],
   "source": [
    "model= Sequential()   # FIRST INTIALIZE YOUR MODEL"
   ]
  },
  {
   "cell_type": "code",
   "execution_count": 21,
   "metadata": {},
   "outputs": [
    {
     "data": {
      "text/plain": [
       "(320, 3)"
      ]
     },
     "execution_count": 21,
     "metadata": {},
     "output_type": "execute_result"
    }
   ],
   "source": [
    "X_train.shape"
   ]
  },
  {
   "cell_type": "code",
   "execution_count": 22,
   "metadata": {},
   "outputs": [
    {
     "data": {
      "text/plain": [
       "(80,)"
      ]
     },
     "execution_count": 22,
     "metadata": {},
     "output_type": "execute_result"
    }
   ],
   "source": [
    "y_test.shape"
   ]
  },
  {
   "cell_type": "code",
   "execution_count": 23,
   "metadata": {},
   "outputs": [
    {
     "name": "stderr",
     "output_type": "stream",
     "text": [
      "C:\\python\\lib\\site-packages\\ipykernel_launcher.py:2: UserWarning: Update your `Dense` call to the Keras 2 API: `Dense(input_dim=3, activation=\"relu\", units=50, kernel_initializer=\"random_uniform\")`\n",
      "  \n"
     ]
    }
   ],
   "source": [
    "#inputlayer+hidden layer 1\n",
    "model.add(Dense(input_dim=3,init=\"random_uniform\",output_dim=50,activation='relu'))"
   ]
  },
  {
   "cell_type": "code",
   "execution_count": 24,
   "metadata": {},
   "outputs": [
    {
     "name": "stderr",
     "output_type": "stream",
     "text": [
      "C:\\python\\lib\\site-packages\\ipykernel_launcher.py:1: UserWarning: Update your `Dense` call to the Keras 2 API: `Dense(activation=\"relu\", units=50, kernel_initializer=\"random_uniform\")`\n",
      "  \"\"\"Entry point for launching an IPython kernel.\n"
     ]
    }
   ],
   "source": [
    "model.add(Dense(output_dim=50,init=\"random_uniform\",activation='relu'))#hidden layer 2"
   ]
  },
  {
   "cell_type": "code",
   "execution_count": 25,
   "metadata": {},
   "outputs": [
    {
     "name": "stderr",
     "output_type": "stream",
     "text": [
      "C:\\python\\lib\\site-packages\\ipykernel_launcher.py:2: UserWarning: Update your `Dense` call to the Keras 2 API: `Dense(activation=\"sigmoid\", units=1, kernel_initializer=\"random_uniform\")`\n",
      "  \n"
     ]
    }
   ],
   "source": [
    "#output layer\n",
    "model.add(Dense(output_dim=1,activation='sigmoid',init=\"random_uniform\"))"
   ]
  },
  {
   "cell_type": "code",
   "execution_count": 26,
   "metadata": {},
   "outputs": [
    {
     "name": "stdout",
     "output_type": "stream",
     "text": [
      "Model: \"sequential_1\"\n",
      "_________________________________________________________________\n",
      "Layer (type)                 Output Shape              Param #   \n",
      "=================================================================\n",
      "dense_1 (Dense)              (None, 50)                200       \n",
      "_________________________________________________________________\n",
      "dense_2 (Dense)              (None, 50)                2550      \n",
      "_________________________________________________________________\n",
      "dense_3 (Dense)              (None, 1)                 51        \n",
      "=================================================================\n",
      "Total params: 2,801\n",
      "Trainable params: 2,801\n",
      "Non-trainable params: 0\n",
      "_________________________________________________________________\n"
     ]
    }
   ],
   "source": [
    "model.summary()"
   ]
  },
  {
   "cell_type": "code",
   "execution_count": 27,
   "metadata": {},
   "outputs": [
    {
     "name": "stdout",
     "output_type": "stream",
     "text": [
      "WARNING:tensorflow:From C:\\python\\lib\\site-packages\\tensorflow\\python\\ops\\nn_impl.py:180: add_dispatch_support.<locals>.wrapper (from tensorflow.python.ops.array_ops) is deprecated and will be removed in a future version.\n",
      "Instructions for updating:\n",
      "Use tf.where in 2.0, which has the same broadcast rule as np.where\n"
     ]
    }
   ],
   "source": [
    "model.compile(optimizer=\"adam\",loss=\"binary_crossentropy\",metrics=['accuracy'])"
   ]
  },
  {
   "cell_type": "code",
   "execution_count": 28,
   "metadata": {},
   "outputs": [
    {
     "name": "stdout",
     "output_type": "stream",
     "text": [
      "WARNING:tensorflow:From C:\\python\\lib\\site-packages\\keras\\backend\\tensorflow_backend.py:422: The name tf.global_variables is deprecated. Please use tf.compat.v1.global_variables instead.\n",
      "\n",
      "Epoch 1/100\n",
      "320/320 [==============================] - 1s 2ms/step - loss: 0.6914 - accuracy: 0.6125\n",
      "Epoch 2/100\n",
      "320/320 [==============================] - 0s 100us/step - loss: 0.6862 - accuracy: 0.6281\n",
      "Epoch 3/100\n",
      "320/320 [==============================] - 0s 100us/step - loss: 0.6744 - accuracy: 0.6812\n",
      "Epoch 4/100\n",
      "320/320 [==============================] - 0s 125us/step - loss: 0.6509 - accuracy: 0.7500\n",
      "Epoch 5/100\n",
      "320/320 [==============================] - 0s 125us/step - loss: 0.6103 - accuracy: 0.7875\n",
      "Epoch 6/100\n",
      "320/320 [==============================] - 0s 100us/step - loss: 0.5516 - accuracy: 0.8062\n",
      "Epoch 7/100\n",
      "320/320 [==============================] - 0s 100us/step - loss: 0.4857 - accuracy: 0.8125\n",
      "Epoch 8/100\n",
      "320/320 [==============================] - 0s 125us/step - loss: 0.4299 - accuracy: 0.8219\n",
      "Epoch 9/100\n",
      "320/320 [==============================] - 0s 100us/step - loss: 0.3866 - accuracy: 0.8313\n",
      "Epoch 10/100\n",
      "320/320 [==============================] - 0s 100us/step - loss: 0.3620 - accuracy: 0.8469\n",
      "Epoch 11/100\n",
      "320/320 [==============================] - 0s 75us/step - loss: 0.3432 - accuracy: 0.8594\n",
      "Epoch 12/100\n",
      "320/320 [==============================] - 0s 75us/step - loss: 0.3335 - accuracy: 0.8656\n",
      "Epoch 13/100\n",
      "320/320 [==============================] - 0s 125us/step - loss: 0.3268 - accuracy: 0.8594\n",
      "Epoch 14/100\n",
      "320/320 [==============================] - 0s 100us/step - loss: 0.3180 - accuracy: 0.8687\n",
      "Epoch 15/100\n",
      "320/320 [==============================] - 0s 75us/step - loss: 0.3119 - accuracy: 0.8719\n",
      "Epoch 16/100\n",
      "320/320 [==============================] - 0s 125us/step - loss: 0.3053 - accuracy: 0.8781\n",
      "Epoch 17/100\n",
      "320/320 [==============================] - 0s 100us/step - loss: 0.3005 - accuracy: 0.8781\n",
      "Epoch 18/100\n",
      "320/320 [==============================] - 0s 100us/step - loss: 0.2947 - accuracy: 0.8906\n",
      "Epoch 19/100\n",
      "320/320 [==============================] - 0s 150us/step - loss: 0.2897 - accuracy: 0.8938\n",
      "Epoch 20/100\n",
      "320/320 [==============================] - 0s 100us/step - loss: 0.2854 - accuracy: 0.8938\n",
      "Epoch 21/100\n",
      "320/320 [==============================] - 0s 128us/step - loss: 0.2812 - accuracy: 0.8969\n",
      "Epoch 22/100\n",
      "320/320 [==============================] - 0s 100us/step - loss: 0.2760 - accuracy: 0.8938\n",
      "Epoch 23/100\n",
      "320/320 [==============================] - 0s 100us/step - loss: 0.2737 - accuracy: 0.8906\n",
      "Epoch 24/100\n",
      "320/320 [==============================] - 0s 125us/step - loss: 0.2709 - accuracy: 0.8906\n",
      "Epoch 25/100\n",
      "320/320 [==============================] - 0s 100us/step - loss: 0.2679 - accuracy: 0.8938\n",
      "Epoch 26/100\n",
      "320/320 [==============================] - 0s 150us/step - loss: 0.2651 - accuracy: 0.8906\n",
      "Epoch 27/100\n",
      "320/320 [==============================] - 0s 100us/step - loss: 0.2622 - accuracy: 0.8906\n",
      "Epoch 28/100\n",
      "320/320 [==============================] - 0s 125us/step - loss: 0.2603 - accuracy: 0.8938\n",
      "Epoch 29/100\n",
      "320/320 [==============================] - 0s 100us/step - loss: 0.2593 - accuracy: 0.8969\n",
      "Epoch 30/100\n",
      "320/320 [==============================] - 0s 125us/step - loss: 0.2578 - accuracy: 0.8969\n",
      "Epoch 31/100\n",
      "320/320 [==============================] - 0s 125us/step - loss: 0.2551 - accuracy: 0.9000\n",
      "Epoch 32/100\n",
      "320/320 [==============================] - 0s 100us/step - loss: 0.2535 - accuracy: 0.8938\n",
      "Epoch 33/100\n",
      "320/320 [==============================] - 0s 125us/step - loss: 0.2531 - accuracy: 0.9000\n",
      "Epoch 34/100\n",
      "320/320 [==============================] - 0s 125us/step - loss: 0.2525 - accuracy: 0.9000\n",
      "Epoch 35/100\n",
      "320/320 [==============================] - 0s 100us/step - loss: 0.2505 - accuracy: 0.8969\n",
      "Epoch 36/100\n",
      "320/320 [==============================] - 0s 75us/step - loss: 0.2494 - accuracy: 0.9031\n",
      "Epoch 37/100\n",
      "320/320 [==============================] - 0s 125us/step - loss: 0.2497 - accuracy: 0.9000\n",
      "Epoch 38/100\n",
      "320/320 [==============================] - 0s 75us/step - loss: 0.2483 - accuracy: 0.9000\n",
      "Epoch 39/100\n",
      "320/320 [==============================] - 0s 100us/step - loss: 0.2491 - accuracy: 0.8969\n",
      "Epoch 40/100\n",
      "320/320 [==============================] - 0s 100us/step - loss: 0.2466 - accuracy: 0.9031\n",
      "Epoch 41/100\n",
      "320/320 [==============================] - 0s 125us/step - loss: 0.2471 - accuracy: 0.9062\n",
      "Epoch 42/100\n",
      "320/320 [==============================] - 0s 125us/step - loss: 0.2461 - accuracy: 0.9062\n",
      "Epoch 43/100\n",
      "320/320 [==============================] - 0s 100us/step - loss: 0.2450 - accuracy: 0.9031\n",
      "Epoch 44/100\n",
      "320/320 [==============================] - 0s 125us/step - loss: 0.2446 - accuracy: 0.9062\n",
      "Epoch 45/100\n",
      "320/320 [==============================] - 0s 250us/step - loss: 0.2437 - accuracy: 0.9062\n",
      "Epoch 46/100\n",
      "320/320 [==============================] - 0s 125us/step - loss: 0.2430 - accuracy: 0.9062\n",
      "Epoch 47/100\n",
      "320/320 [==============================] - 0s 125us/step - loss: 0.2426 - accuracy: 0.9062\n",
      "Epoch 48/100\n",
      "320/320 [==============================] - 0s 100us/step - loss: 0.2424 - accuracy: 0.9062\n",
      "Epoch 49/100\n",
      "320/320 [==============================] - 0s 125us/step - loss: 0.2422 - accuracy: 0.9062\n",
      "Epoch 50/100\n",
      "320/320 [==============================] - 0s 100us/step - loss: 0.2414 - accuracy: 0.9062\n",
      "Epoch 51/100\n",
      "320/320 [==============================] - 0s 100us/step - loss: 0.2412 - accuracy: 0.9062\n",
      "Epoch 52/100\n",
      "320/320 [==============================] - 0s 100us/step - loss: 0.2429 - accuracy: 0.9062\n",
      "Epoch 53/100\n",
      "320/320 [==============================] - 0s 175us/step - loss: 0.2403 - accuracy: 0.9062\n",
      "Epoch 54/100\n",
      "320/320 [==============================] - 0s 100us/step - loss: 0.2404 - accuracy: 0.9125\n",
      "Epoch 55/100\n",
      "320/320 [==============================] - 0s 125us/step - loss: 0.2415 - accuracy: 0.9094\n",
      "Epoch 56/100\n",
      "320/320 [==============================] - 0s 100us/step - loss: 0.2386 - accuracy: 0.9125\n",
      "Epoch 57/100\n",
      "320/320 [==============================] - 0s 100us/step - loss: 0.2384 - accuracy: 0.9094\n",
      "Epoch 58/100\n",
      "320/320 [==============================] - 0s 100us/step - loss: 0.2384 - accuracy: 0.9125\n",
      "Epoch 59/100\n",
      "320/320 [==============================] - 0s 100us/step - loss: 0.2380 - accuracy: 0.9094\n",
      "Epoch 60/100\n",
      "320/320 [==============================] - 0s 100us/step - loss: 0.2384 - accuracy: 0.9094\n",
      "Epoch 61/100\n",
      "320/320 [==============================] - 0s 100us/step - loss: 0.2379 - accuracy: 0.9094\n",
      "Epoch 62/100\n",
      "320/320 [==============================] - 0s 100us/step - loss: 0.2376 - accuracy: 0.9125\n",
      "Epoch 63/100\n",
      "320/320 [==============================] - 0s 100us/step - loss: 0.2378 - accuracy: 0.9062\n",
      "Epoch 64/100\n",
      "320/320 [==============================] - 0s 100us/step - loss: 0.2385 - accuracy: 0.9094\n",
      "Epoch 65/100\n",
      "320/320 [==============================] - 0s 75us/step - loss: 0.2385 - accuracy: 0.9094\n",
      "Epoch 66/100\n",
      "320/320 [==============================] - 0s 100us/step - loss: 0.2364 - accuracy: 0.9125\n",
      "Epoch 67/100\n",
      "320/320 [==============================] - 0s 100us/step - loss: 0.2363 - accuracy: 0.9094\n",
      "Epoch 68/100\n",
      "320/320 [==============================] - 0s 100us/step - loss: 0.2364 - accuracy: 0.9094\n",
      "Epoch 69/100\n",
      "320/320 [==============================] - 0s 100us/step - loss: 0.2355 - accuracy: 0.9125\n",
      "Epoch 70/100\n",
      "320/320 [==============================] - 0s 100us/step - loss: 0.2370 - accuracy: 0.9094\n",
      "Epoch 71/100\n",
      "320/320 [==============================] - 0s 150us/step - loss: 0.2351 - accuracy: 0.9125\n",
      "Epoch 72/100\n",
      "320/320 [==============================] - 0s 100us/step - loss: 0.2377 - accuracy: 0.9062\n",
      "Epoch 73/100\n",
      "320/320 [==============================] - 0s 100us/step - loss: 0.2355 - accuracy: 0.9125\n",
      "Epoch 74/100\n",
      "320/320 [==============================] - 0s 100us/step - loss: 0.2352 - accuracy: 0.9156\n",
      "Epoch 75/100\n",
      "320/320 [==============================] - 0s 100us/step - loss: 0.2369 - accuracy: 0.9156\n",
      "Epoch 76/100\n",
      "320/320 [==============================] - 0s 100us/step - loss: 0.2359 - accuracy: 0.9125\n",
      "Epoch 77/100\n",
      "320/320 [==============================] - 0s 100us/step - loss: 0.2355 - accuracy: 0.9094\n",
      "Epoch 78/100\n"
     ]
    },
    {
     "name": "stdout",
     "output_type": "stream",
     "text": [
      "320/320 [==============================] - 0s 100us/step - loss: 0.2345 - accuracy: 0.9094\n",
      "Epoch 79/100\n",
      "320/320 [==============================] - 0s 100us/step - loss: 0.2351 - accuracy: 0.9094\n",
      "Epoch 80/100\n",
      "320/320 [==============================] - 0s 125us/step - loss: 0.2346 - accuracy: 0.9125\n",
      "Epoch 81/100\n",
      "320/320 [==============================] - 0s 75us/step - loss: 0.2353 - accuracy: 0.9031\n",
      "Epoch 82/100\n",
      "320/320 [==============================] - 0s 100us/step - loss: 0.2334 - accuracy: 0.9062\n",
      "Epoch 83/100\n",
      "320/320 [==============================] - 0s 75us/step - loss: 0.2331 - accuracy: 0.9125\n",
      "Epoch 84/100\n",
      "320/320 [==============================] - 0s 100us/step - loss: 0.2344 - accuracy: 0.9156\n",
      "Epoch 85/100\n",
      "320/320 [==============================] - 0s 100us/step - loss: 0.2346 - accuracy: 0.9125\n",
      "Epoch 86/100\n",
      "320/320 [==============================] - 0s 100us/step - loss: 0.2328 - accuracy: 0.9094\n",
      "Epoch 87/100\n",
      "320/320 [==============================] - 0s 100us/step - loss: 0.2333 - accuracy: 0.9125\n",
      "Epoch 88/100\n",
      "320/320 [==============================] - 0s 125us/step - loss: 0.2333 - accuracy: 0.9125\n",
      "Epoch 89/100\n",
      "320/320 [==============================] - 0s 100us/step - loss: 0.2321 - accuracy: 0.9094\n",
      "Epoch 90/100\n",
      "320/320 [==============================] - ETA: 0s - loss: 0.2637 - accuracy: 0.87 - 0s 75us/step - loss: 0.2315 - accuracy: 0.9062\n",
      "Epoch 91/100\n",
      "320/320 [==============================] - 0s 100us/step - loss: 0.2323 - accuracy: 0.9125\n",
      "Epoch 92/100\n",
      "320/320 [==============================] - 0s 100us/step - loss: 0.2317 - accuracy: 0.9125\n",
      "Epoch 93/100\n",
      "320/320 [==============================] - 0s 100us/step - loss: 0.2316 - accuracy: 0.9125\n",
      "Epoch 94/100\n",
      "320/320 [==============================] - 0s 77us/step - loss: 0.2322 - accuracy: 0.9125\n",
      "Epoch 95/100\n",
      "320/320 [==============================] - 0s 100us/step - loss: 0.2315 - accuracy: 0.9125\n",
      "Epoch 96/100\n",
      "320/320 [==============================] - 0s 81us/step - loss: 0.2314 - accuracy: 0.9125\n",
      "Epoch 97/100\n",
      "320/320 [==============================] - 0s 75us/step - loss: 0.2322 - accuracy: 0.9125\n",
      "Epoch 98/100\n",
      "320/320 [==============================] - 0s 75us/step - loss: 0.2311 - accuracy: 0.9094\n",
      "Epoch 99/100\n",
      "320/320 [==============================] - 0s 100us/step - loss: 0.2307 - accuracy: 0.9125\n",
      "Epoch 100/100\n",
      "320/320 [==============================] - 0s 75us/step - loss: 0.2312 - accuracy: 0.9094\n"
     ]
    },
    {
     "data": {
      "text/plain": [
       "<keras.callbacks.callbacks.History at 0x186365b8e48>"
      ]
     },
     "execution_count": 28,
     "metadata": {},
     "output_type": "execute_result"
    }
   ],
   "source": [
    "model.fit(X_train,y_train,epochs=100,batch_size=32)"
   ]
  },
  {
   "cell_type": "code",
   "execution_count": 29,
   "metadata": {
    "collapsed": true
   },
   "outputs": [
    {
     "data": {
      "text/plain": [
       "array([[8.9143932e-02],\n",
       "       [7.4647069e-03],\n",
       "       [7.7516139e-02],\n",
       "       [1.3451934e-02],\n",
       "       [2.0289421e-03],\n",
       "       [2.5361776e-05],\n",
       "       [2.9426813e-04],\n",
       "       [9.7466791e-01],\n",
       "       [7.5072050e-05],\n",
       "       [8.1121171e-01],\n",
       "       [3.3926964e-04],\n",
       "       [2.2333860e-04],\n",
       "       [8.1360042e-03],\n",
       "       [2.5737232e-01],\n",
       "       [3.3192635e-03],\n",
       "       [8.4133887e-01],\n",
       "       [1.6826165e-01],\n",
       "       [2.1108091e-03],\n",
       "       [8.6827129e-01],\n",
       "       [3.4655631e-03],\n",
       "       [1.7643273e-03],\n",
       "       [9.1773057e-01],\n",
       "       [4.8875004e-02],\n",
       "       [9.0331209e-01],\n",
       "       [5.2154064e-06],\n",
       "       [9.0739954e-01],\n",
       "       [2.3777902e-02],\n",
       "       [2.4249434e-02],\n",
       "       [9.1544688e-03],\n",
       "       [6.4901948e-02],\n",
       "       [6.0544312e-03],\n",
       "       [2.1076119e-01],\n",
       "       [9.4194865e-01],\n",
       "       [6.1174929e-03],\n",
       "       [1.8298626e-04],\n",
       "       [1.2099743e-05],\n",
       "       [2.9305816e-03],\n",
       "       [1.0667145e-03],\n",
       "       [2.4497509e-04],\n",
       "       [8.4932256e-01],\n",
       "       [4.0822685e-02],\n",
       "       [5.7366341e-02],\n",
       "       [1.1485457e-02],\n",
       "       [3.8439929e-03],\n",
       "       [8.1491977e-01],\n",
       "       [2.5302172e-04],\n",
       "       [1.1426842e-01],\n",
       "       [7.2308826e-01],\n",
       "       [1.5854836e-05],\n",
       "       [8.3655763e-01],\n",
       "       [8.4804165e-01],\n",
       "       [1.3320744e-03],\n",
       "       [2.8107166e-03],\n",
       "       [9.4576037e-01],\n",
       "       [8.0154961e-01],\n",
       "       [7.7257645e-01],\n",
       "       [1.7897904e-02],\n",
       "       [4.7611296e-03],\n",
       "       [9.6007001e-01],\n",
       "       [3.4272671e-06],\n",
       "       [4.6059489e-04],\n",
       "       [9.7698522e-01],\n",
       "       [5.6010485e-04],\n",
       "       [7.6621020e-01],\n",
       "       [8.6426735e-07],\n",
       "       [9.1929138e-01],\n",
       "       [9.8035336e-03],\n",
       "       [4.8607588e-04],\n",
       "       [3.7843406e-02],\n",
       "       [1.2317836e-01],\n",
       "       [9.4732451e-01],\n",
       "       [4.3263823e-02],\n",
       "       [1.1861324e-04],\n",
       "       [8.6135232e-01],\n",
       "       [4.7075659e-02],\n",
       "       [1.0038912e-03],\n",
       "       [3.3084157e-01],\n",
       "       [2.5643796e-02],\n",
       "       [9.0590191e-01],\n",
       "       [7.7763391e-01]], dtype=float32)"
      ]
     },
     "execution_count": 29,
     "metadata": {},
     "output_type": "execute_result"
    }
   ],
   "source": [
    "y_pred=model.predict(X_test)\n",
    "y_pred"
   ]
  },
  {
   "cell_type": "code",
   "execution_count": 33,
   "metadata": {},
   "outputs": [
    {
     "data": {
      "text/plain": [
       "array([0.08914393], dtype=float32)"
      ]
     },
     "execution_count": 33,
     "metadata": {},
     "output_type": "execute_result"
    }
   ],
   "source": [
    "y_pred[0]"
   ]
  },
  {
   "cell_type": "code",
   "execution_count": 34,
   "metadata": {},
   "outputs": [
    {
     "ename": "KeyError",
     "evalue": "0",
     "output_type": "error",
     "traceback": [
      "\u001b[1;31m---------------------------------------------------------------------------\u001b[0m",
      "\u001b[1;31mKeyError\u001b[0m                                  Traceback (most recent call last)",
      "\u001b[1;32m<ipython-input-34-05cf9e087d8a>\u001b[0m in \u001b[0;36m<module>\u001b[1;34m\u001b[0m\n\u001b[1;32m----> 1\u001b[1;33m \u001b[0my_test\u001b[0m\u001b[1;33m[\u001b[0m\u001b[1;36m0\u001b[0m\u001b[1;33m]\u001b[0m\u001b[1;33m\u001b[0m\u001b[1;33m\u001b[0m\u001b[0m\n\u001b[0m",
      "\u001b[1;32mC:\\python\\lib\\site-packages\\pandas\\core\\series.py\u001b[0m in \u001b[0;36m__getitem__\u001b[1;34m(self, key)\u001b[0m\n\u001b[0;32m    866\u001b[0m         \u001b[0mkey\u001b[0m \u001b[1;33m=\u001b[0m \u001b[0mcom\u001b[0m\u001b[1;33m.\u001b[0m\u001b[0mapply_if_callable\u001b[0m\u001b[1;33m(\u001b[0m\u001b[0mkey\u001b[0m\u001b[1;33m,\u001b[0m \u001b[0mself\u001b[0m\u001b[1;33m)\u001b[0m\u001b[1;33m\u001b[0m\u001b[1;33m\u001b[0m\u001b[0m\n\u001b[0;32m    867\u001b[0m         \u001b[1;32mtry\u001b[0m\u001b[1;33m:\u001b[0m\u001b[1;33m\u001b[0m\u001b[1;33m\u001b[0m\u001b[0m\n\u001b[1;32m--> 868\u001b[1;33m             \u001b[0mresult\u001b[0m \u001b[1;33m=\u001b[0m \u001b[0mself\u001b[0m\u001b[1;33m.\u001b[0m\u001b[0mindex\u001b[0m\u001b[1;33m.\u001b[0m\u001b[0mget_value\u001b[0m\u001b[1;33m(\u001b[0m\u001b[0mself\u001b[0m\u001b[1;33m,\u001b[0m \u001b[0mkey\u001b[0m\u001b[1;33m)\u001b[0m\u001b[1;33m\u001b[0m\u001b[1;33m\u001b[0m\u001b[0m\n\u001b[0m\u001b[0;32m    869\u001b[0m \u001b[1;33m\u001b[0m\u001b[0m\n\u001b[0;32m    870\u001b[0m             \u001b[1;32mif\u001b[0m \u001b[1;32mnot\u001b[0m \u001b[0mis_scalar\u001b[0m\u001b[1;33m(\u001b[0m\u001b[0mresult\u001b[0m\u001b[1;33m)\u001b[0m\u001b[1;33m:\u001b[0m\u001b[1;33m\u001b[0m\u001b[1;33m\u001b[0m\u001b[0m\n",
      "\u001b[1;32mC:\\python\\lib\\site-packages\\pandas\\core\\indexes\\base.py\u001b[0m in \u001b[0;36mget_value\u001b[1;34m(self, series, key)\u001b[0m\n\u001b[0;32m   4373\u001b[0m         \u001b[1;32mtry\u001b[0m\u001b[1;33m:\u001b[0m\u001b[1;33m\u001b[0m\u001b[1;33m\u001b[0m\u001b[0m\n\u001b[0;32m   4374\u001b[0m             return self._engine.get_value(s, k,\n\u001b[1;32m-> 4375\u001b[1;33m                                           tz=getattr(series.dtype, 'tz', None))\n\u001b[0m\u001b[0;32m   4376\u001b[0m         \u001b[1;32mexcept\u001b[0m \u001b[0mKeyError\u001b[0m \u001b[1;32mas\u001b[0m \u001b[0me1\u001b[0m\u001b[1;33m:\u001b[0m\u001b[1;33m\u001b[0m\u001b[1;33m\u001b[0m\u001b[0m\n\u001b[0;32m   4377\u001b[0m             \u001b[1;32mif\u001b[0m \u001b[0mlen\u001b[0m\u001b[1;33m(\u001b[0m\u001b[0mself\u001b[0m\u001b[1;33m)\u001b[0m \u001b[1;33m>\u001b[0m \u001b[1;36m0\u001b[0m \u001b[1;32mand\u001b[0m \u001b[1;33m(\u001b[0m\u001b[0mself\u001b[0m\u001b[1;33m.\u001b[0m\u001b[0mholds_integer\u001b[0m\u001b[1;33m(\u001b[0m\u001b[1;33m)\u001b[0m \u001b[1;32mor\u001b[0m \u001b[0mself\u001b[0m\u001b[1;33m.\u001b[0m\u001b[0mis_boolean\u001b[0m\u001b[1;33m(\u001b[0m\u001b[1;33m)\u001b[0m\u001b[1;33m)\u001b[0m\u001b[1;33m:\u001b[0m\u001b[1;33m\u001b[0m\u001b[1;33m\u001b[0m\u001b[0m\n",
      "\u001b[1;32mpandas/_libs/index.pyx\u001b[0m in \u001b[0;36mpandas._libs.index.IndexEngine.get_value\u001b[1;34m()\u001b[0m\n",
      "\u001b[1;32mpandas/_libs/index.pyx\u001b[0m in \u001b[0;36mpandas._libs.index.IndexEngine.get_value\u001b[1;34m()\u001b[0m\n",
      "\u001b[1;32mpandas/_libs/index.pyx\u001b[0m in \u001b[0;36mpandas._libs.index.IndexEngine.get_loc\u001b[1;34m()\u001b[0m\n",
      "\u001b[1;32mpandas/_libs/hashtable_class_helper.pxi\u001b[0m in \u001b[0;36mpandas._libs.hashtable.Int64HashTable.get_item\u001b[1;34m()\u001b[0m\n",
      "\u001b[1;32mpandas/_libs/hashtable_class_helper.pxi\u001b[0m in \u001b[0;36mpandas._libs.hashtable.Int64HashTable.get_item\u001b[1;34m()\u001b[0m\n",
      "\u001b[1;31mKeyError\u001b[0m: 0"
     ]
    }
   ],
   "source": [
    "y_test[0]"
   ]
  },
  {
   "cell_type": "code",
   "execution_count": 31,
   "metadata": {},
   "outputs": [
    {
     "ename": "ValueError",
     "evalue": "Classification metrics can't handle a mix of binary and continuous targets",
     "output_type": "error",
     "traceback": [
      "\u001b[1;31m---------------------------------------------------------------------------\u001b[0m",
      "\u001b[1;31mValueError\u001b[0m                                Traceback (most recent call last)",
      "\u001b[1;32m<ipython-input-31-6d5ad1e46a8c>\u001b[0m in \u001b[0;36m<module>\u001b[1;34m\u001b[0m\n\u001b[0;32m      1\u001b[0m \u001b[1;32mfrom\u001b[0m \u001b[0msklearn\u001b[0m\u001b[1;33m.\u001b[0m\u001b[0mmetrics\u001b[0m \u001b[1;32mimport\u001b[0m \u001b[0mclassification_report\u001b[0m\u001b[1;33m,\u001b[0m\u001b[0mconfusion_matrix\u001b[0m\u001b[1;33m\u001b[0m\u001b[1;33m\u001b[0m\u001b[0m\n\u001b[1;32m----> 2\u001b[1;33m \u001b[0mprint\u001b[0m\u001b[1;33m(\u001b[0m\u001b[0mconfusion_matrix\u001b[0m\u001b[1;33m(\u001b[0m\u001b[0my_test\u001b[0m\u001b[1;33m,\u001b[0m\u001b[0my_pred\u001b[0m\u001b[1;33m)\u001b[0m\u001b[1;33m)\u001b[0m\u001b[1;33m\u001b[0m\u001b[1;33m\u001b[0m\u001b[0m\n\u001b[0m",
      "\u001b[1;32mC:\\python\\lib\\site-packages\\sklearn\\metrics\\classification.py\u001b[0m in \u001b[0;36mconfusion_matrix\u001b[1;34m(y_true, y_pred, labels, sample_weight)\u001b[0m\n\u001b[0;32m    251\u001b[0m \u001b[1;33m\u001b[0m\u001b[0m\n\u001b[0;32m    252\u001b[0m     \"\"\"\n\u001b[1;32m--> 253\u001b[1;33m     \u001b[0my_type\u001b[0m\u001b[1;33m,\u001b[0m \u001b[0my_true\u001b[0m\u001b[1;33m,\u001b[0m \u001b[0my_pred\u001b[0m \u001b[1;33m=\u001b[0m \u001b[0m_check_targets\u001b[0m\u001b[1;33m(\u001b[0m\u001b[0my_true\u001b[0m\u001b[1;33m,\u001b[0m \u001b[0my_pred\u001b[0m\u001b[1;33m)\u001b[0m\u001b[1;33m\u001b[0m\u001b[1;33m\u001b[0m\u001b[0m\n\u001b[0m\u001b[0;32m    254\u001b[0m     \u001b[1;32mif\u001b[0m \u001b[0my_type\u001b[0m \u001b[1;32mnot\u001b[0m \u001b[1;32min\u001b[0m \u001b[1;33m(\u001b[0m\u001b[1;34m\"binary\"\u001b[0m\u001b[1;33m,\u001b[0m \u001b[1;34m\"multiclass\"\u001b[0m\u001b[1;33m)\u001b[0m\u001b[1;33m:\u001b[0m\u001b[1;33m\u001b[0m\u001b[1;33m\u001b[0m\u001b[0m\n\u001b[0;32m    255\u001b[0m         \u001b[1;32mraise\u001b[0m \u001b[0mValueError\u001b[0m\u001b[1;33m(\u001b[0m\u001b[1;34m\"%s is not supported\"\u001b[0m \u001b[1;33m%\u001b[0m \u001b[0my_type\u001b[0m\u001b[1;33m)\u001b[0m\u001b[1;33m\u001b[0m\u001b[1;33m\u001b[0m\u001b[0m\n",
      "\u001b[1;32mC:\\python\\lib\\site-packages\\sklearn\\metrics\\classification.py\u001b[0m in \u001b[0;36m_check_targets\u001b[1;34m(y_true, y_pred)\u001b[0m\n\u001b[0;32m     79\u001b[0m     \u001b[1;32mif\u001b[0m \u001b[0mlen\u001b[0m\u001b[1;33m(\u001b[0m\u001b[0my_type\u001b[0m\u001b[1;33m)\u001b[0m \u001b[1;33m>\u001b[0m \u001b[1;36m1\u001b[0m\u001b[1;33m:\u001b[0m\u001b[1;33m\u001b[0m\u001b[1;33m\u001b[0m\u001b[0m\n\u001b[0;32m     80\u001b[0m         raise ValueError(\"Classification metrics can't handle a mix of {0} \"\n\u001b[1;32m---> 81\u001b[1;33m                          \"and {1} targets\".format(type_true, type_pred))\n\u001b[0m\u001b[0;32m     82\u001b[0m \u001b[1;33m\u001b[0m\u001b[0m\n\u001b[0;32m     83\u001b[0m     \u001b[1;31m# We can't have more than one value on y_type => The set is no more needed\u001b[0m\u001b[1;33m\u001b[0m\u001b[1;33m\u001b[0m\u001b[1;33m\u001b[0m\u001b[0m\n",
      "\u001b[1;31mValueError\u001b[0m: Classification metrics can't handle a mix of binary and continuous targets"
     ]
    }
   ],
   "source": [
    "from sklearn.metrics import classification_report,confusion_matrix\n",
    "print(confusion_matrix(y_test,y_pred))\n"
   ]
  },
  {
   "cell_type": "code",
   "execution_count": null,
   "metadata": {},
   "outputs": [],
   "source": []
  },
  {
   "cell_type": "code",
   "execution_count": null,
   "metadata": {},
   "outputs": [],
   "source": []
  }
 ],
 "metadata": {
  "kernelspec": {
   "display_name": "Python 3",
   "language": "python",
   "name": "python3"
  },
  "language_info": {
   "codemirror_mode": {
    "name": "ipython",
    "version": 3
   },
   "file_extension": ".py",
   "mimetype": "text/x-python",
   "name": "python",
   "nbconvert_exporter": "python",
   "pygments_lexer": "ipython3",
   "version": "3.7.3"
  }
 },
 "nbformat": 4,
 "nbformat_minor": 2
}
